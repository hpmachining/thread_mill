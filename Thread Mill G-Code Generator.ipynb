{
 "cells": [
  {
   "cell_type": "code",
   "execution_count": 39,
   "metadata": {},
   "outputs": [
    {
     "data": {
      "text/html": [
       "<!DOCTYPE html>\n",
       "<html lang=\"en\">\n",
       "<head>\n",
       "    <meta charset=\"UTF-8\">\n",
       "    <title>Thread Mill G-Code Generator</title>\n",
       "</head>\n",
       "<body>\n",
       "<h1>Thread Mill G-Code Generator</h1>\n",
       "<p>\n",
       "    Create a program to generate a callable g-code sub program \n",
       "    to mill an internal thread with a 1 pass thread mill such \n",
       "    as <a href=\"Catalog2015_81015_30DEGREE_UN_HELICAL.pdf\">these</a>.\n",
       "</p>\n",
       "<p>\n",
       "    <h2>Program Inputs</h2>\n",
       "    <h3>Thread Information</h3>\n",
       "    <ul>\n",
       "        <li>Major Diameter</li>\n",
       "        <li>Minor Diameter</li>\n",
       "        <li>Thread Depth</li>\n",
       "        <li>Absolute \"Z\" of starting plane</li>\n",
       "        <li>Threads per inch</li>\n",
       "    </ul>\n",
       "    <h3>Number of radial passes</h3>\n",
       "    <ul>\n",
       "        <li>1 - 100%</li>\n",
       "        <li>2 - 65%, 35%</li>\n",
       "        <li>3 - 50%, 30%, 20%</li>\n",
       "        <li>4 - 40%, 27%, 20%, 13%</li>\n",
       "    </ul>\n",
       "    <h3>Tool Parameters</h3>\n",
       "    <ul>\n",
       "        <li>Tool diameter</li>\n",
       "        <li>Number of flutes</li>\n",
       "        <li>Speed (SFM)</li>\n",
       "        <li>Feed per tooth</li>\n",
       "    </ul>\n",
       "</p>\n",
       "</body>\n",
       "</html>"
      ],
      "text/plain": [
       "<IPython.core.display.HTML object>"
      ]
     },
     "metadata": {},
     "output_type": "execute_result"
    }
   ],
   "source": [
    "%%HTML\n",
    "<!DOCTYPE html>\n",
    "<html lang=\"en\">\n",
    "<head>\n",
    "    <meta charset=\"UTF-8\">\n",
    "    <title>Thread Mill G-Code Generator</title>\n",
    "</head>\n",
    "<body>\n",
    "<h1>Thread Mill G-Code Generator</h1>\n",
    "<p>\n",
    "    Create a program to generate a callable g-code sub program \n",
    "    to mill an internal thread with a 1 pass thread mill such \n",
    "    as <a href=\"Catalog2015_81015_30DEGREE_UN_HELICAL.pdf\">these</a>.\n",
    "</p>\n",
    "<p>\n",
    "    <h2>Program Inputs</h2>\n",
    "    <h3>Thread Information</h3>\n",
    "    <ul>\n",
    "        <li>Major Diameter</li>\n",
    "        <li>Minor Diameter</li>\n",
    "        <li>Thread Depth</li>\n",
    "        <li>Absolute \"Z\" of starting plane</li>\n",
    "        <li>Threads per inch</li>\n",
    "    </ul>\n",
    "    <h3>Number of radial passes</h3>\n",
    "    <ul>\n",
    "        <li>1 - 100%</li>\n",
    "        <li>2 - 65%, 35%</li>\n",
    "        <li>3 - 50%, 30%, 20%</li>\n",
    "        <li>4 - 40%, 27%, 20%, 13%</li>\n",
    "    </ul>\n",
    "    <h3>Tool Parameters</h3>\n",
    "    <ul>\n",
    "        <li>Tool diameter</li>\n",
    "        <li>Number of flutes</li>\n",
    "        <li>Speed (SFM)</li>\n",
    "        <li>Feed per tooth</li>\n",
    "    </ul>\n",
    "</p>\n",
    "</body>\n",
    "</html>"
   ]
  },
  {
   "cell_type": "code",
   "execution_count": null,
   "metadata": {
    "collapsed": true
   },
   "outputs": [],
   "source": []
  }
 ],
 "metadata": {
  "kernelspec": {
   "display_name": "Python 3",
   "language": "python",
   "name": "python3"
  },
  "language_info": {
   "codemirror_mode": {
    "name": "ipython",
    "version": 3
   },
   "file_extension": ".py",
   "mimetype": "text/x-python",
   "name": "python",
   "nbconvert_exporter": "python",
   "pygments_lexer": "ipython3",
   "version": "3.6.1"
  }
 },
 "nbformat": 4,
 "nbformat_minor": 2
}
